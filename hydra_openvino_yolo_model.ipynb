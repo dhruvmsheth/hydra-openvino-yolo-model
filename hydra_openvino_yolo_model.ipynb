{
  "nbformat": 4,
  "nbformat_minor": 0,
  "metadata": {
    "colab": {
      "name": "hydra-openvino-yolo-model.ipynb",
      "provenance": [],
      "collapsed_sections": [],
      "authorship_tag": "ABX9TyM0d73Cc9hS9VoXx0sIKkK6",
      "include_colab_link": true
    },
    "kernelspec": {
      "name": "python3",
      "display_name": "Python 3"
    }
  },
  "cells": [
    {
      "cell_type": "markdown",
      "metadata": {
        "id": "view-in-github",
        "colab_type": "text"
      },
      "source": [
        "<a href=\"https://colab.research.google.com/github/dhruvsheth-ai/hydra-openvino-yolo-model/blob/master/hydra_openvino_yolo_model.ipynb\" target=\"_parent\"><img src=\"https://colab.research.google.com/assets/colab-badge.svg\" alt=\"Open In Colab\"/></a>"
      ]
    },
    {
      "cell_type": "code",
      "metadata": {
        "id": "68eMertgIxaB",
        "colab_type": "code",
        "colab": {
          "base_uri": "https://localhost:8080/",
          "height": 33
        },
        "outputId": "27e2b255-1ac6-41ca-b19a-cb5971cff562"
      },
      "source": [
        "# clone darknet repo\n",
        "!git clone https://github.com/AlexeyAB/darknet"
      ],
      "execution_count": null,
      "outputs": [
        {
          "output_type": "stream",
          "text": [
            "fatal: destination path 'darknet' already exists and is not an empty directory.\n"
          ],
          "name": "stdout"
        }
      ]
    },
    {
      "cell_type": "code",
      "metadata": {
        "id": "5H-Taj06Tw1c",
        "colab_type": "code",
        "colab": {}
      },
      "source": [
        "# change makefile to have GPU and OPENCV enabled\n",
        "%cd darknet\n",
        "!sed -i 's/OPENCV=0/OPENCV=1/' Makefile\n",
        "!sed -i 's/GPU=0/GPU=1/' Makefile\n",
        "!sed -i 's/CUDNN=0/CUDNN=1/' Makefile"
      ],
      "execution_count": null,
      "outputs": []
    },
    {
      "cell_type": "code",
      "metadata": {
        "id": "aNv1UHwXZK57",
        "colab_type": "code",
        "colab": {}
      },
      "source": [
        "# verify CUDA\n",
        "!/usr/local/cuda/bin/nvcc --version"
      ],
      "execution_count": null,
      "outputs": []
    },
    {
      "cell_type": "code",
      "metadata": {
        "id": "3DWRrVatZZZg",
        "colab_type": "code",
        "colab": {}
      },
      "source": [
        "# make darknet (build)\n",
        "!make"
      ],
      "execution_count": null,
      "outputs": []
    },
    {
      "cell_type": "code",
      "metadata": {
        "id": "9QDHhDMgZTE9",
        "colab_type": "code",
        "colab": {}
      },
      "source": [
        "# get yolov3 pretrained coco dataset weights\n",
        "!wget https://pjreddie.com/media/files/yolov3.weights"
      ],
      "execution_count": null,
      "outputs": []
    },
    {
      "cell_type": "code",
      "metadata": {
        "id": "w4Pm0VoqmGia",
        "colab_type": "code",
        "colab": {}
      },
      "source": [
        "# define helper functions\n",
        "def imShow(path):\n",
        "  import cv2\n",
        "  import matplotlib.pyplot as plt\n",
        "  %matplotlib inline\n",
        "\n",
        "  image = cv2.imread(path)\n",
        "  height, width = image.shape[:2]\n",
        "  resized_image = cv2.resize(image,(3*width, 3*height), interpolation = cv2.INTER_CUBIC)\n",
        "\n",
        "  fig = plt.gcf()\n",
        "  fig.set_size_inches(18, 10)\n",
        "  plt.axis(\"off\")\n",
        "  plt.imshow(cv2.cvtColor(resized_image, cv2.COLOR_BGR2RGB))\n",
        "  plt.show()\n",
        "\n",
        "# use this to upload files\n",
        "def upload():\n",
        "  from google.colab import files\n",
        "  uploaded = files.upload() \n",
        "  for name, data in uploaded.items():\n",
        "    with open(name, 'wb') as f:\n",
        "      f.write(data)\n",
        "      print ('saved file', name)\n",
        "\n",
        "# use this to download a file  \n",
        "def download(path):\n",
        "  from google.colab import files\n",
        "  files.download(path)"
      ],
      "execution_count": null,
      "outputs": []
    },
    {
      "cell_type": "code",
      "metadata": {
        "id": "j9lmJEnGEu-7",
        "colab_type": "code",
        "colab": {}
      },
      "source": [
        "%cd ..\n",
        "from google.colab import drive\n",
        "drive.mount('/content/gdrive')"
      ],
      "execution_count": null,
      "outputs": []
    },
    {
      "cell_type": "code",
      "metadata": {
        "id": "yreDPcJdoo29",
        "colab_type": "code",
        "colab": {}
      },
      "source": [
        "# this creates a symbolic link so that now the path /content/gdrive/My\\ Drive/ is equal to /mydrive\n",
        "!ln -s /content/gdrive/My\\ Drive/ /mydrive\n",
        "!ls /mydrive\n",
        "%cd darknet"
      ],
      "execution_count": null,
      "outputs": []
    },
    {
      "cell_type": "code",
      "metadata": {
        "id": "0_JRC13hK7Zr",
        "colab_type": "code",
        "colab": {}
      },
      "source": [
        "# this is where my zip is stored (I created a yolov3 folder where I will get my required files from)\n",
        "!ls /mydrive/yolov3"
      ],
      "execution_count": null,
      "outputs": []
    },
    {
      "cell_type": "code",
      "metadata": {
        "id": "YpljhMVHOx9X",
        "colab_type": "code",
        "colab": {}
      },
      "source": [
        "# copy the .zip file into the root directory of cloud VM\n",
        "!cp /mydrive/yolov3/obj.zip ../"
      ],
      "execution_count": null,
      "outputs": []
    },
    {
      "cell_type": "code",
      "metadata": {
        "id": "45en565PPLce",
        "colab_type": "code",
        "colab": {}
      },
      "source": [
        "# unzip the zip file and its contents should now be in /darknet/data/obj\n",
        "!unzip ../obj.zip -d data/"
      ],
      "execution_count": null,
      "outputs": []
    },
    {
      "cell_type": "code",
      "metadata": {
        "id": "Uk0yNelLnTmg",
        "colab_type": "code",
        "colab": {}
      },
      "source": [
        "# download cfg to google drive and change its name\n",
        "!cp cfg/yolov3.cfg /mydrive/yolov3/yolov3_custom2.cfg"
      ],
      "execution_count": null,
      "outputs": []
    },
    {
      "cell_type": "code",
      "metadata": {
        "id": "FKGP15SmrXLe",
        "colab_type": "code",
        "colab": {}
      },
      "source": [
        "# upload the custom .cfg back to cloud VM from Google Drive\n",
        "!cp /mydrive/yolov3/yolov3_custom2.cfg ./cfg\n",
        "\n",
        "# upload the custom .cfg back to cloud VM from local machine (uncomment to use)\n",
        "#%cd cfg\n",
        "#upload()\n",
        "#%cd .. "
      ],
      "execution_count": null,
      "outputs": []
    },
    {
      "cell_type": "code",
      "metadata": {
        "colab_type": "code",
        "id": "qBmbHd7M16lK",
        "colab": {}
      },
      "source": [
        "# upload the obj.names and obj.data files to cloud VM from Google Drive\n",
        "!cp /mydrive/yolov3/obj.names ./data\n",
        "!cp /mydrive/yolov3/obj.data  ./data\n",
        "\n",
        "# upload the obj.names and obj.data files to cloud VM from local machine (uncomment to use)\n",
        "#%cd data\n",
        "#upload()\n",
        "#%cd .. "
      ],
      "execution_count": null,
      "outputs": []
    },
    {
      "cell_type": "code",
      "metadata": {
        "id": "cKBeIp7V44nu",
        "colab_type": "code",
        "colab": {}
      },
      "source": [
        "# upload the generate_train.py script to cloud VM from Google Drive\n",
        "!cp /mydrive/yolov3/generate_train.py ./\n",
        "\n",
        "# upload the generate_train.py script to cloud VM from local machine (uncomment to use)\n",
        "#upload()\n"
      ],
      "execution_count": null,
      "outputs": []
    },
    {
      "cell_type": "code",
      "metadata": {
        "id": "o4HBBgk3503F",
        "colab_type": "code",
        "colab": {}
      },
      "source": [
        "!python generate_train.py"
      ],
      "execution_count": null,
      "outputs": []
    },
    {
      "cell_type": "code",
      "metadata": {
        "id": "CIFjMSlX6DfP",
        "colab_type": "code",
        "colab": {}
      },
      "source": [
        "# verify train.txt can be seen in our darknet/data folder\n",
        "!ls data/"
      ],
      "execution_count": null,
      "outputs": []
    },
    {
      "cell_type": "markdown",
      "metadata": {
        "id": "DKDmFrUH7JHy",
        "colab_type": "text"
      },
      "source": [
        "#  Download pre-trained weights for the convolutional layers.\n",
        "This step downloads the weights for the convolutional layers of the YOLOv3 network. By using these weights it helps your custom object detector to be way more accurate and not have to train as long."
      ]
    },
    {
      "cell_type": "code",
      "metadata": {
        "id": "k5SYWDPv7qG-",
        "colab_type": "code",
        "colab": {}
      },
      "source": [
        "# upload pretrained convolutional layer weights\n",
        "!wget http://pjreddie.com/media/files/darknet53.conv.74"
      ],
      "execution_count": null,
      "outputs": []
    },
    {
      "cell_type": "code",
      "metadata": {
        "id": "IrT9LSjc8LMt",
        "colab_type": "code",
        "colab": {}
      },
      "source": [
        "#trainig hydra openvino model from the data input\n",
        "!./darknet detector train data/obj.data cfg/yolov3_custom.cfg darknet53.conv.74 -dont_show"
      ],
      "execution_count": null,
      "outputs": []
    },
    {
      "cell_type": "code",
      "metadata": {
        "id": "8X8Hu3RLQB-2",
        "colab_type": "code",
        "colab": {}
      },
      "source": [
        "imShow('chart.png')"
      ],
      "execution_count": null,
      "outputs": []
    },
    {
      "cell_type": "code",
      "metadata": {
        "id": "CzWTss9BZaDx",
        "colab_type": "code",
        "colab": {}
      },
      "source": [
        "# need to set our custom cfg to test mode \n",
        "%cd cfg\n",
        "!sed -i 's/batch=64/batch=1/' yolov3_custom.cfg\n",
        "!sed -i 's/subdivisions=16/subdivisions=1/' yolov3_custom.cfg\n",
        "%cd ..\n"
      ],
      "execution_count": null,
      "outputs": []
    },
    {
      "cell_type": "code",
      "metadata": {
        "id": "rBPEqumuZ0aG",
        "colab_type": "code",
        "colab": {}
      },
      "source": [
        "\n",
        "!./darknet detector test data/obj.data cfg/yolov3_custom.cfg /mydrive/yolov3/backup/yolov3_custom_last.weights /content/apple.jpg -thresh 0.3\n",
        "imShow('predictions.jpg')"
      ],
      "execution_count": null,
      "outputs": []
    },
    {
      "cell_type": "code",
      "metadata": {
        "id": "bNDFbr59wzCB",
        "colab_type": "code",
        "colab": {}
      },
      "source": [
        "!git clone https://github.com/mystic123/tensorflow-yolo-v3.git\n",
        "cd tensorflow-yolo-v3"
      ],
      "execution_count": null,
      "outputs": []
    },
    {
      "cell_type": "code",
      "metadata": {
        "id": "XhorbFnKw4oN",
        "colab_type": "code",
        "colab": {}
      },
      "source": [
        "!git checkout ed60b90"
      ],
      "execution_count": null,
      "outputs": []
    },
    {
      "cell_type": "code",
      "metadata": {
        "id": "BqXTKqNHw7so",
        "colab_type": "code",
        "colab": {}
      },
      "source": [
        "!python3 convert_weights_pb.py --class_names coco.names --data_format NHWC --weights_file yolov3.weights\n"
      ],
      "execution_count": null,
      "outputs": []
    },
    {
      "cell_type": "code",
      "metadata": {
        "id": "TMBKmVE9xBFt",
        "colab_type": "code",
        "colab": {}
      },
      "source": [
        "!python3 mo_tf.py\n",
        "--input_model /path/to/yolo_v3.pb\n",
        "--tensorflow_use_custom_operations_config $MO_ROOT/extensions/front/tf/yolo_v3.json\n",
        "--batch 1"
      ],
      "execution_count": null,
      "outputs": []
    }
  ]
}